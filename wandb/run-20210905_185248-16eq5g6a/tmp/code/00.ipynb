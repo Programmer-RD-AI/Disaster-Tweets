{
 "cells": [
  {
   "cell_type": "code",
   "execution_count": 1,
   "id": "e2e82619-2465-4f80-99d8-b001bef504ac",
   "metadata": {},
   "outputs": [],
   "source": [
    "import nltk\n",
    "from nltk.stem.porter import *\n",
    "from torch.nn import *\n",
    "from torch.optim import *\n",
    "import numpy as np\n",
    "import pandas as pd\n",
    "import torch,torchvision\n",
    "import random\n",
    "from tqdm import *\n",
    "from torch.utils.data import Dataset,DataLoader\n",
    "stemmer = PorterStemmer()"
   ]
  },
  {
   "cell_type": "code",
   "execution_count": 2,
   "id": "e95eef51-46eb-4481-9747-d26b1bcca926",
   "metadata": {},
   "outputs": [],
   "source": [
    "def tokenize(sentence):\n",
    "    return nltk.word_tokenize(sentence)"
   ]
  },
  {
   "cell_type": "code",
   "execution_count": 3,
   "id": "7918c3d8-3735-4a84-9248-968904862227",
   "metadata": {},
   "outputs": [
    {
     "data": {
      "text/plain": [
       "['$', '5000']"
      ]
     },
     "execution_count": 3,
     "metadata": {},
     "output_type": "execute_result"
    }
   ],
   "source": [
    "tokenize('$5000')"
   ]
  },
  {
   "cell_type": "code",
   "execution_count": 4,
   "id": "f4331ff5-602f-4ac5-a7ef-fc7a34bde7d4",
   "metadata": {},
   "outputs": [],
   "source": [
    "def stem(word):\n",
    "    return stemmer.stem(word.lower())"
   ]
  },
  {
   "cell_type": "code",
   "execution_count": 5,
   "id": "10749710-df7d-46c0-a456-192ea5fced3b",
   "metadata": {},
   "outputs": [
    {
     "data": {
      "text/plain": [
       "'organ'"
      ]
     },
     "execution_count": 5,
     "metadata": {},
     "output_type": "execute_result"
    }
   ],
   "source": [
    "stem('organic')"
   ]
  },
  {
   "cell_type": "code",
   "execution_count": 6,
   "id": "a98986a8-c0c4-4383-8235-a32dbff024f7",
   "metadata": {},
   "outputs": [],
   "source": [
    "def bag_of_words(tokenized_words,all_words):\n",
    "    tokenized_words = [stem(w) for w in tokenized_words]\n",
    "    bag = np.zeros(len(all_words),dtype=np.float32)\n",
    "    for idx,w in enumerate(all_words):\n",
    "        if w in tokenized_words:\n",
    "            bag[idx] = 1.0\n",
    "    return bag"
   ]
  },
  {
   "cell_type": "code",
   "execution_count": 7,
   "id": "6d7447ca-2bf6-427e-9599-1b18df2ad703",
   "metadata": {},
   "outputs": [
    {
     "data": {
      "text/plain": [
       "array([1., 0., 0., 0., 1.], dtype=float32)"
      ]
     },
     "execution_count": 7,
     "metadata": {},
     "output_type": "execute_result"
    }
   ],
   "source": [
    "bag_of_words(['how','are','fwafaw','you'],['you','no','no','bro','how'])"
   ]
  },
  {
   "cell_type": "code",
   "execution_count": 8,
   "id": "a29c5956-7e99-442a-b1b7-fe87160eac5e",
   "metadata": {},
   "outputs": [],
   "source": [
    "data = pd.read_csv('./tweets.csv').dropna()"
   ]
  },
  {
   "cell_type": "code",
   "execution_count": 9,
   "id": "f3ea3400-fadb-4931-a8a3-38f27d35b6ba",
   "metadata": {},
   "outputs": [],
   "source": [
    "X = data['text']\n",
    "y = data['target']"
   ]
  },
  {
   "cell_type": "code",
   "execution_count": 10,
   "id": "c458e59f-10b2-4577-8fcb-48f7d6b09a8d",
   "metadata": {},
   "outputs": [],
   "source": [
    "all_words = []\n",
    "all_data = []\n",
    "tags = []"
   ]
  },
  {
   "cell_type": "code",
   "execution_count": 11,
   "id": "4b1b81e2-995c-4dd1-9dd1-1608f832e4e4",
   "metadata": {},
   "outputs": [
    {
     "name": "stderr",
     "output_type": "stream",
     "text": [
      "7952it [00:02, 2793.01it/s]\n"
     ]
    }
   ],
   "source": [
    "for X_batch,y_batch in tqdm(zip(X,y)):\n",
    "    X_batch = tokenize(X_batch)\n",
    "    new_X = []\n",
    "    for X_batch_in_X_batch in X_batch:\n",
    "        new_X.append(stem(X_batch_in_X_batch))\n",
    "    all_words.extend(new_X)\n",
    "    all_data.append((new_X,y_batch))\n",
    "    tags.append(y_batch)"
   ]
  },
  {
   "cell_type": "code",
   "execution_count": 12,
   "id": "46e8da58-5044-49b5-a164-84992fe3b6b0",
   "metadata": {},
   "outputs": [],
   "source": [
    "np.random.shuffle(all_words)\n",
    "np.random.shuffle(all_data)"
   ]
  },
  {
   "cell_type": "code",
   "execution_count": 13,
   "id": "1e8e6f4d-11c2-4447-805e-4cdca7f8e316",
   "metadata": {},
   "outputs": [],
   "source": [
    "all_words = sorted(set(all_words))\n",
    "tags = sorted(set(tags))"
   ]
  },
  {
   "cell_type": "code",
   "execution_count": 14,
   "id": "2658efdf-4286-4760-bdba-ad498283a0bd",
   "metadata": {},
   "outputs": [],
   "source": [
    "np.random.shuffle(all_words)\n",
    "np.random.shuffle(all_data)"
   ]
  },
  {
   "cell_type": "code",
   "execution_count": 15,
   "id": "72386778-037e-4cdd-be30-0d26f7155bda",
   "metadata": {},
   "outputs": [],
   "source": [
    "X = []\n",
    "y = []"
   ]
  },
  {
   "cell_type": "code",
   "execution_count": 16,
   "id": "cf9231cd-fa74-4e41-88c5-61e2817aeb80",
   "metadata": {},
   "outputs": [
    {
     "name": "stderr",
     "output_type": "stream",
     "text": [
      "100%|██████████████████████████████████████| 7952/7952 [00:28<00:00, 274.51it/s]\n"
     ]
    }
   ],
   "source": [
    "for sentence,tag in tqdm(all_data):\n",
    "    bag = bag_of_words(sentence,all_words)\n",
    "    X.append(bag)\n",
    "    y.append(tags.index(tag))"
   ]
  },
  {
   "cell_type": "code",
   "execution_count": 17,
   "id": "dc55a0a2-85d8-4c5d-b080-799882d3309b",
   "metadata": {},
   "outputs": [
    {
     "data": {
      "text/plain": [
       "array([0., 0., 0., ..., 0., 0., 0.], dtype=float32)"
      ]
     },
     "execution_count": 17,
     "metadata": {},
     "output_type": "execute_result"
    }
   ],
   "source": [
    "X[0]"
   ]
  },
  {
   "cell_type": "code",
   "execution_count": 18,
   "id": "c6970923-3e3e-4b17-972c-c177134889ca",
   "metadata": {},
   "outputs": [
    {
     "data": {
      "text/plain": [
       "1"
      ]
     },
     "execution_count": 18,
     "metadata": {},
     "output_type": "execute_result"
    }
   ],
   "source": [
    "y[0]"
   ]
  },
  {
   "cell_type": "code",
   "execution_count": 19,
   "id": "05b80871-51cf-4c2a-a237-2b13f400567f",
   "metadata": {},
   "outputs": [],
   "source": [
    "from sklearn.model_selection import *"
   ]
  },
  {
   "cell_type": "code",
   "execution_count": 20,
   "id": "ad527b81-043d-4050-935d-22672d14a08c",
   "metadata": {},
   "outputs": [],
   "source": [
    "X_train,X_test,y_train,y_test = train_test_split(X,y,test_size=0.25,shuffle=False)"
   ]
  },
  {
   "cell_type": "code",
   "execution_count": 21,
   "id": "654fa076-2852-47ba-9a5c-1f662d3ac9fb",
   "metadata": {},
   "outputs": [],
   "source": [
    "device = 'cuda:0'"
   ]
  },
  {
   "cell_type": "code",
   "execution_count": 22,
   "id": "89079111-a8e5-4aba-8730-b1085ad052a8",
   "metadata": {},
   "outputs": [],
   "source": [
    "# print('-')\n",
    "# X_train = torch.from_numpy(np.array(X_train)).to(device).float()\n",
    "# print('-')\n",
    "# X_test = torch.from_numpy(np.array(X_test)).to(device).float()\n",
    "# print('-')\n",
    "# y_train = torch.from_numpy(np.array(y_train)).to(device)\n",
    "# print('-')\n",
    "# y_test = torch.from_numpy(np.array(y_test)).to(device)\n",
    "# print('-')"
   ]
  },
  {
   "cell_type": "code",
   "execution_count": 23,
   "id": "1b765e91-0e8d-4607-afc7-c5a2003ca948",
   "metadata": {},
   "outputs": [],
   "source": [
    "# torch.save(X_train,'X_train.pth')\n",
    "# torch.save(X_test,'X_test.pth')\n",
    "# torch.save(y_train,'y_train.pth')\n",
    "# torch.save(y_test,'y_test.pth')\n",
    "# torch.save(all_data,'all_data.pth')\n",
    "# torch.save(all_words,'all_words.pth')\n",
    "# torch.save(tags,'tags.pth')\n",
    "X_train = torch.load('X_train.pth').to(device).float()\n",
    "y_train = torch.load('y_train.pth').to(device).float()\n",
    "X_test = torch.load('X_test.pth').to(device).float()\n",
    "y_test = torch.load('y_test.pth').to(device).float()\n",
    "all_data = list(torch.load('all_data.pth'))\n",
    "all_words = list(torch.load('all_words.pth'))\n",
    "tags = list(torch.load('tags.pth'))"
   ]
  },
  {
   "cell_type": "code",
   "execution_count": 24,
   "id": "63ab4774-8090-4d17-bda1-9444125218ae",
   "metadata": {},
   "outputs": [],
   "source": [
    "class Model(Module):\n",
    "    def __init__(self,hidden=1024,iters=20):\n",
    "        super().__init__()\n",
    "        self.activtion = ReLU()\n",
    "        self.hidden = hidden\n",
    "        self.iters = iters\n",
    "        self.linear1 = Linear(len(all_words),hidden)\n",
    "        self.linear2 = Linear(hidden,hidden)\n",
    "        self.batchnorm = BatchNorm1d(hidden)\n",
    "        self.linear3 = Linear(hidden,1)\n",
    "        self.linear3activation = Sigmoid()\n",
    "    def forward(self,X):\n",
    "        preds = self.linear1(X)\n",
    "        for _ in range(self.iters):\n",
    "            preds = self.batchnorm(self.activtion(self.linear2(preds)))\n",
    "        preds = self.linear3activation(self.linear3(preds))\n",
    "        return preds"
   ]
  },
  {
   "cell_type": "code",
   "execution_count": 25,
   "id": "0ced747b-2aba-4a80-8a3f-a0f424464b94",
   "metadata": {},
   "outputs": [],
   "source": [
    "model = Model().to(device)"
   ]
  },
  {
   "cell_type": "code",
   "execution_count": 26,
   "id": "c71d9075-2827-49e2-8d3d-64a4100f4392",
   "metadata": {},
   "outputs": [],
   "source": [
    "criterion = MSELoss()"
   ]
  },
  {
   "cell_type": "code",
   "execution_count": 27,
   "id": "d441d7b1-9d88-4ad2-a643-39b18e9698d0",
   "metadata": {},
   "outputs": [],
   "source": [
    "optimizer = Adam(model.parameters(),lr=0.001)"
   ]
  },
  {
   "cell_type": "code",
   "execution_count": 28,
   "id": "437e9b4e-ff3a-45a4-b963-e898ea0887f8",
   "metadata": {},
   "outputs": [],
   "source": [
    "epochs = 1000"
   ]
  },
  {
   "cell_type": "code",
   "execution_count": 29,
   "id": "970f9d09-96c5-4b94-95ec-fee1eae1703d",
   "metadata": {},
   "outputs": [],
   "source": [
    "batch_size = 32"
   ]
  },
  {
   "cell_type": "code",
   "execution_count": 30,
   "id": "a4bbffea-b5fd-4b6b-8b3e-224c8bb3d825",
   "metadata": {},
   "outputs": [],
   "source": [
    "def get_accuracy(model,X,y):\n",
    "    total = 0\n",
    "    correct = 0\n",
    "    preds = model(X)\n",
    "    for pred,y_batch in zip(preds,y):\n",
    "        pred = int(torch.round(pred))\n",
    "        y_batch = int(torch.round(y_batch))\n",
    "        if pred == y_batch:\n",
    "            correct += 1\n",
    "        total += 1\n",
    "    acc = round(correct/total,3)*100\n",
    "    return acc"
   ]
  },
  {
   "cell_type": "code",
   "execution_count": 31,
   "id": "ccaa25ca-769b-47e7-937c-50ca60265de0",
   "metadata": {},
   "outputs": [],
   "source": [
    "def get_loss(model,X,y,criterion):\n",
    "    preds = model(X)\n",
    "    loss = criterion(preds.view(-1,1),y.view(-1,1))\n",
    "    return loss.item()"
   ]
  },
  {
   "cell_type": "code",
   "execution_count": 32,
   "id": "7c74f1ce-d56a-4104-a797-5f7dc91b4963",
   "metadata": {},
   "outputs": [],
   "source": [
    "PROJECT_NAME = 'Disaster-Tweets'"
   ]
  },
  {
   "cell_type": "code",
   "execution_count": 33,
   "id": "8e0b4150-82d2-4541-80eb-6f0548545da7",
   "metadata": {},
   "outputs": [],
   "source": [
    "import wandb"
   ]
  },
  {
   "cell_type": "code",
   "execution_count": null,
   "id": "050215c7-e7ae-489d-9f0c-fcbb01a2c1f2",
   "metadata": {},
   "outputs": [
    {
     "name": "stderr",
     "output_type": "stream",
     "text": [
      "\u001b[34m\u001b[1mwandb\u001b[0m: Currently logged in as: \u001b[33mranuga-d\u001b[0m (use `wandb login --relogin` to force relogin)\n"
     ]
    },
    {
     "data": {
      "text/html": [
       "\n",
       "                Tracking run with wandb version 0.12.1<br/>\n",
       "                Syncing run <strong style=\"color:#cdcd00\">baseline</strong> to <a href=\"https://wandb.ai\" target=\"_blank\">Weights & Biases</a> <a href=\"https://docs.wandb.com/integrations/jupyter.html\" target=\"_blank\">(Documentation)</a>.<br/>\n",
       "                Project page: <a href=\"https://wandb.ai/ranuga-d/Disaster-Tweets\" target=\"_blank\">https://wandb.ai/ranuga-d/Disaster-Tweets</a><br/>\n",
       "                Run page: <a href=\"https://wandb.ai/ranuga-d/Disaster-Tweets/runs/16eq5g6a\" target=\"_blank\">https://wandb.ai/ranuga-d/Disaster-Tweets/runs/16eq5g6a</a><br/>\n",
       "                Run data is saved locally in <code>/home/indika/Programming/Projects/Python/Artifical-Intelligence/PyTorch/NLP/Disaster-Tweets/wandb/run-20210905_185248-16eq5g6a</code><br/><br/>\n",
       "            "
      ],
      "text/plain": [
       "<IPython.core.display.HTML object>"
      ]
     },
     "metadata": {},
     "output_type": "display_data"
    },
    {
     "name": "stderr",
     "output_type": "stream",
     "text": [
      " 11%|████▌                                     | 11/100 [01:00<08:09,  5.50s/it]"
     ]
    }
   ],
   "source": [
    "wandb.init(project=PROJECT_NAME,name='baseline')\n",
    "wandb.watch(model)\n",
    "for _ in tqdm(range(epochs)):\n",
    "    for idx in range(0,len(X_train),batch_size):\n",
    "        X_batch = X_train[idx:idx+batch_size].to(device).float()\n",
    "        y_batch = y_train[idx:idx+batch_size].to(device).float()\n",
    "        preds = model(X_batch)\n",
    "        loss = criterion(preds.view(-1,1),y_batch.view(-1,1))\n",
    "        optimizer.zero_grad()\n",
    "        loss.backward()\n",
    "        optimizer.step()\n",
    "    wandb.log({'Loss':get_loss(model,X_train,y_train,criterion)})\n",
    "    wandb.log({'Val Loss':get_loss(model,X_test,y_test,criterion)})\n",
    "    wandb.log({'Acc':get_accuracy(model,X_train,y_train)})\n",
    "    wandb.log({'Val Acc':get_accuracy(model,X_test,y_test)})\n",
    "wandb.watch(model)\n",
    "wandb.finish()"
   ]
  },
  {
   "cell_type": "code",
   "execution_count": null,
   "id": "0c001bc3-e90a-48ff-ac3e-33dfe5f6a8e3",
   "metadata": {},
   "outputs": [],
   "source": []
  }
 ],
 "metadata": {
  "kernelspec": {
   "display_name": "Python 3.7.3 64-bit ('base': conda)",
   "language": "python",
   "name": "python373jvsc74a57bd0210f9608a45c0278a93c9e0b10db32a427986ab48cfc0d20c139811eb78c4bbc"
  },
  "language_info": {
   "codemirror_mode": {
    "name": "ipython",
    "version": 3
   },
   "file_extension": ".py",
   "mimetype": "text/x-python",
   "name": "python",
   "nbconvert_exporter": "python",
   "pygments_lexer": "ipython3",
   "version": "3.7.11"
  }
 },
 "nbformat": 4,
 "nbformat_minor": 5
}
